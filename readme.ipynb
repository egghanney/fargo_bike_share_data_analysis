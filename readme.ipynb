{
 "cells": [
  {
   "cell_type": "markdown",
   "id": "d027a086",
   "metadata": {},
   "source": [
    "# Fargo Bike Trip Exploration\n",
    "\n",
    "## Dataset\n",
    "\n",
    "The data consists of information regarding 183412 initial entries. This data set includes information about individual rides made in a bike-sharing system covering the greater San Francisco Bay area.\n",
    "\n",
    "## Data Wrangling \n",
    "\n",
    "In the cause of the project the following data cleaning steps were taken. \n",
    "\n",
    "1. Datatype formating: This was done to ensure that all the data in the dataset conform to the right format \n",
    "2. Removal of null values\n",
    "3. Extrating data from one column to make another.\n",
    "\n",
    "\n",
    "## Summary of Findings\n",
    "\n",
    "In the exploration, I found that there was a relationship between trip duration and birth year (refrencing age), that is to say as the number per birth year reduces with increasing duration. Other findings from the project indicated that the most used bike was the bike with the code 5481, this helps maintenance scheduling. The study revealed that there majority of males in the gender and also subcriber are more than customers. This helps in the development of marketing plan to balance the scale in term of gender and user types.\n",
    "\n",
    "\n",
    "## Key Insights for Presentation\n",
    "\n",
    "1. It was observed that there more shared trip by people who were birth after 1940 and also as the trip duration in terms of hours increases there are more shared trips compared to non-shared trips.\n",
    "\n",
    "2. From the visualization it was evident that Market St at 10th St was had the most start trips\n",
    "\n",
    "3. It was observed that there were more males than any other gender."
   ]
  }
 ],
 "metadata": {
  "kernelspec": {
   "display_name": "Python 3 (ipykernel)",
   "language": "python",
   "name": "python3"
  },
  "language_info": {
   "codemirror_mode": {
    "name": "ipython",
    "version": 3
   },
   "file_extension": ".py",
   "mimetype": "text/x-python",
   "name": "python",
   "nbconvert_exporter": "python",
   "pygments_lexer": "ipython3",
   "version": "3.9.12"
  }
 },
 "nbformat": 4,
 "nbformat_minor": 5
}
